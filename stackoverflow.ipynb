{
  "cells": [
    {
      "cell_type": "markdown",
      "metadata": {
        "id": "view-in-github",
        "colab_type": "text"
      },
      "source": [
        "<a href=\"https://colab.research.google.com/github/Nikunjmistry22/stackoverflow-data/blob/main/stackoverflow.ipynb\" target=\"_parent\"><img src=\"https://colab.research.google.com/assets/colab-badge.svg\" alt=\"Open In Colab\"/></a>"
      ]
    },
    {
      "cell_type": "code",
      "execution_count": null,
      "id": "815100ca",
      "metadata": {
        "id": "815100ca",
        "outputId": "50e3f453-89fa-4238-bee6-dd4ad7594887"
      },
      "outputs": [
        {
          "data": {
            "text/html": [
              "\n",
              "            <div>\n",
              "                <p><b>SparkSession - in-memory</b></p>\n",
              "                \n",
              "        <div>\n",
              "            <p><b>SparkContext</b></p>\n",
              "\n",
              "            <p><a href=\"http://DESKTOP-EC0EDCV:4040\">Spark UI</a></p>\n",
              "\n",
              "            <dl>\n",
              "              <dt>Version</dt>\n",
              "                <dd><code>v3.3.1</code></dd>\n",
              "              <dt>Master</dt>\n",
              "                <dd><code>local</code></dd>\n",
              "              <dt>AppName</dt>\n",
              "                <dd><code>StackoverFlow</code></dd>\n",
              "            </dl>\n",
              "        </div>\n",
              "        \n",
              "            </div>\n",
              "        "
            ],
            "text/plain": [
              "<pyspark.sql.session.SparkSession at 0x1afd47bd6a0>"
            ]
          },
          "execution_count": 1,
          "metadata": {},
          "output_type": "execute_result"
        }
      ],
      "source": [
        "from pyspark.sql import SparkSession\n",
        "spark = SparkSession \\\n",
        "    .builder \\\n",
        "    .master(\"local\") \\\n",
        "    .appName(\"StackoverFlow\") \\\n",
        "    .config(\"spark.driver.memory\",\"16g\") \\\n",
        "    .getOrCreate()\n",
        "spark"
      ]
    },
    {
      "cell_type": "code",
      "execution_count": null,
      "id": "0c88eb41",
      "metadata": {
        "id": "0c88eb41"
      },
      "outputs": [],
      "source": [
        "spark.conf.set(\"spark.sql.shuffle.partitions\", \"500\")"
      ]
    },
    {
      "cell_type": "code",
      "execution_count": null,
      "id": "9992a6a6",
      "metadata": {
        "id": "9992a6a6",
        "outputId": "f37216cb-0b46-47cd-876d-9ee24ccd327b"
      },
      "outputs": [
        {
          "name": "stdout",
          "output_type": "stream",
          "text": [
            "+---+---------------+\n",
            "| Id|            Tag|\n",
            "+---+---------------+\n",
            "|  1|           data|\n",
            "|  4|             c#|\n",
            "|  4|       winforms|\n",
            "|  4|type-conversion|\n",
            "|  4|        decimal|\n",
            "+---+---------------+\n",
            "only showing top 5 rows\n",
            "\n"
          ]
        }
      ],
      "source": [
        "data=spark.read.format(\"csv\").option(\"header\",True).load(\"csv_files\\\\question_tags.csv\")\n",
        "data.show(5)"
      ]
    },
    {
      "cell_type": "code",
      "execution_count": null,
      "id": "21936031",
      "metadata": {
        "id": "21936031",
        "outputId": "ba3dff84-0f2c-42d0-8d72-af037bb24d88"
      },
      "outputs": [
        {
          "data": {
            "text/plain": [
              "StructType([StructField('Id', StringType(), True), StructField('Tag', StringType(), True)])"
            ]
          },
          "execution_count": 4,
          "metadata": {},
          "output_type": "execute_result"
        }
      ],
      "source": [
        "data.schema"
      ]
    },
    {
      "cell_type": "code",
      "execution_count": null,
      "id": "b33b5d4c",
      "metadata": {
        "id": "b33b5d4c"
      },
      "outputs": [],
      "source": [
        "from pyspark.sql.window import Window\n",
        "from pyspark.sql.functions import *\n",
        "w=Window.orderBy(lit(1))"
      ]
    },
    {
      "cell_type": "code",
      "execution_count": null,
      "id": "633debc8",
      "metadata": {
        "id": "633debc8",
        "outputId": "d384eb39-9a39-43db-9c43-1ff88069d037"
      },
      "outputs": [
        {
          "name": "stdout",
          "output_type": "stream",
          "text": [
            "+--------+\n",
            "|     Tag|\n",
            "+--------+\n",
            "|       #|\n",
            "|    #-+-|\n",
            "|       +|\n",
            "|-session|\n",
            "|   -test|\n",
            "+--------+\n",
            "only showing top 5 rows\n",
            "\n"
          ]
        }
      ],
      "source": [
        "tags=data.select(\"Tag\").distinct()\n",
        "tags=tags.orderBy(\"Tag\",ascending=True)\n",
        "tags.show(5)"
      ]
    },
    {
      "cell_type": "code",
      "execution_count": null,
      "id": "49b8498b",
      "metadata": {
        "id": "49b8498b",
        "outputId": "ef4eba5d-b709-47fe-9efa-01968a40cc15"
      },
      "outputs": [
        {
          "data": {
            "text/plain": [
              "58256"
            ]
          },
          "execution_count": 7,
          "metadata": {},
          "output_type": "execute_result"
        }
      ],
      "source": [
        "tag_name=tags.withColumn(\"Tag_id\",row_number().over(w))\n",
        "tag_name=tag_name.select(\"Tag_id\",\"Tag\")\n",
        "tag_name.count()"
      ]
    },
    {
      "cell_type": "code",
      "execution_count": null,
      "id": "69196e95",
      "metadata": {
        "scrolled": true,
        "id": "69196e95",
        "outputId": "c8322ec8-787e-4323-c1b4-4ad16ed82d19"
      },
      "outputs": [
        {
          "name": "stdout",
          "output_type": "stream",
          "text": [
            "+-----------+------+\n",
            "|question_id|Tag_id|\n",
            "+-----------+------+\n",
            "|         17|  5401|\n",
            "|       1041| 42420|\n",
            "|       1237| 42420|\n",
            "|       1746| 42420|\n",
            "|       3232| 42420|\n",
            "|       4149| 17123|\n",
            "|       4736| 42420|\n",
            "|       4870| 42420|\n",
            "|       4922| 39370|\n",
            "|       4954| 42420|\n",
            "+-----------+------+\n",
            "only showing top 10 rows\n",
            "\n"
          ]
        }
      ],
      "source": [
        "join_exp=data[\"Tag\"]==tag_name[\"Tag\"]\n",
        "main_tag=data.join(tag_name,join_exp)\n",
        "main_tag=main_tag.select(col(\"Id\").alias(\"question_id\"),\"Tag_id\")\n",
        "main_tag.show(10)"
      ]
    },
    {
      "cell_type": "code",
      "execution_count": null,
      "id": "6dd23452",
      "metadata": {
        "id": "6dd23452",
        "outputId": "1802045f-e37a-45eb-b6a4-af8b2d20064d"
      },
      "outputs": [
        {
          "name": "stdout",
          "output_type": "stream",
          "text": [
            "== Physical Plan ==\n",
            "AdaptiveSparkPlan isFinalPlan=false\n",
            "+- Project [Id#17 AS question_id#65, Tag_id#41]\n",
            "   +- SortMergeJoin [Tag#18], [Tag#55], Inner\n",
            "      :- Sort [Tag#18 ASC NULLS FIRST], false, 0\n",
            "      :  +- Exchange hashpartitioning(Tag#18, 500), ENSURE_REQUIREMENTS, [plan_id=626]\n",
            "      :     +- Filter isnotnull(Tag#18)\n",
            "      :        +- FileScan csv [Id#17,Tag#18] Batched: false, DataFilters: [isnotnull(Tag#18)], Format: CSV, Location: InMemoryFileIndex(1 paths)[file:/C:/Users/Nikunj/Desktop/stackoverflow/csv_files/question_tags.csv], PartitionFilters: [], PushedFilters: [IsNotNull(Tag)], ReadSchema: struct<Id:string,Tag:string>\n",
            "      +- Sort [Tag#55 ASC NULLS FIRST], false, 0\n",
            "         +- Exchange hashpartitioning(Tag#55, 500), ENSURE_REQUIREMENTS, [plan_id=627]\n",
            "            +- Project [Tag_id#41, Tag#55]\n",
            "               +- Filter isnotnull(Tag#55)\n",
            "                  +- Window [row_number() windowspecdefinition(1 ASC NULLS FIRST, specifiedwindowframe(RowFrame, unboundedpreceding$(), currentrow$())) AS Tag_id#41], [1 ASC NULLS FIRST]\n",
            "                     +- Sort [1 ASC NULLS FIRST], false, 0\n",
            "                        +- Exchange SinglePartition, ENSURE_REQUIREMENTS, [plan_id=619]\n",
            "                           +- Sort [Tag#55 ASC NULLS FIRST], true, 0\n",
            "                              +- Exchange rangepartitioning(Tag#55 ASC NULLS FIRST, 500), ENSURE_REQUIREMENTS, [plan_id=616]\n",
            "                                 +- HashAggregate(keys=[Tag#55], functions=[])\n",
            "                                    +- Exchange hashpartitioning(Tag#55, 500), ENSURE_REQUIREMENTS, [plan_id=613]\n",
            "                                       +- HashAggregate(keys=[Tag#55], functions=[])\n",
            "                                          +- FileScan csv [Tag#55] Batched: false, DataFilters: [], Format: CSV, Location: InMemoryFileIndex(1 paths)[file:/C:/Users/Nikunj/Desktop/stackoverflow/csv_files/question_tags.csv], PartitionFilters: [], PushedFilters: [], ReadSchema: struct<Tag:string>\n",
            "\n",
            "\n"
          ]
        }
      ],
      "source": [
        "main_tag.explain()"
      ]
    },
    {
      "cell_type": "code",
      "execution_count": null,
      "id": "c65a51d0",
      "metadata": {
        "id": "c65a51d0",
        "outputId": "dc51b3bd-a8e9-4895-b1ad-4fa7ff8b5056"
      },
      "outputs": [
        {
          "name": "stdout",
          "output_type": "stream",
          "text": [
            "+---+--------------------+--------------------+--------------------+-----+-----------+-----------+\n",
            "| Id|        CreationDate|          ClosedDate|        DeletionDate|Score|OwnerUserId|AnswerCount|\n",
            "+---+--------------------+--------------------+--------------------+-----+-----------+-----------+\n",
            "|  1|2008-07-31T21:26:37Z|                  NA|2011-03-28T00:53:47Z|    1|         NA|          0|\n",
            "|  4|2008-07-31T21:42:52Z|                  NA|                  NA|  458|          8|         13|\n",
            "|  6|2008-07-31T22:08:08Z|                  NA|                  NA|  207|          9|          5|\n",
            "|  8|2008-07-31T23:33:19Z|2013-06-03T04:00:25Z|2015-02-11T08:26:40Z|   42|         NA|          8|\n",
            "|  9|2008-07-31T23:40:59Z|                  NA|                  NA| 1410|          1|         58|\n",
            "+---+--------------------+--------------------+--------------------+-----+-----------+-----------+\n",
            "only showing top 5 rows\n",
            "\n"
          ]
        }
      ],
      "source": [
        "#Read the file\n",
        "main_data=spark.read.format(\"csv\").option(\"header\",True).load(\"csv_files\\\\questions.csv\")\n",
        "main_data.show(5)"
      ]
    },
    {
      "cell_type": "code",
      "execution_count": null,
      "id": "be2292e4",
      "metadata": {
        "id": "be2292e4",
        "outputId": "943e12a9-8f5b-458f-84fc-963be6ccecf2"
      },
      "outputs": [
        {
          "name": "stdout",
          "output_type": "stream",
          "text": [
            "+-------------+-------+\n",
            "|          Tag|  count|\n",
            "+-------------+-------+\n",
            "|   javascript|1649631|\n",
            "|         java|1563820|\n",
            "|          php|1365600|\n",
            "|           c#|1321027|\n",
            "|      android|1288338|\n",
            "|       jquery|1011324|\n",
            "|       python| 854172|\n",
            "|         html| 776512|\n",
            "|          ios| 635227|\n",
            "|          c++| 627341|\n",
            "|        mysql| 561375|\n",
            "|          css| 545587|\n",
            "|          sql| 436546|\n",
            "|      asp.net| 400619|\n",
            "|  objective-c| 338539|\n",
            "|ruby-on-rails| 325003|\n",
            "|            c| 306418|\n",
            "|         .net| 301454|\n",
            "|       iphone| 274464|\n",
            "|    angularjs| 267560|\n",
            "+-------------+-------+\n",
            "only showing top 20 rows\n",
            "\n"
          ]
        }
      ],
      "source": [
        "#most commom tags doubt\n",
        "common=data.select(\"Tag\").groupBy(\"Tag\").count()\n",
        "common.orderBy(\"count\",ascending=False).show()"
      ]
    },
    {
      "cell_type": "code",
      "execution_count": null,
      "id": "57c561e3",
      "metadata": {
        "id": "57c561e3",
        "outputId": "d9ac48bb-85b6-42db-c9d3-2b95f79ad464"
      },
      "outputs": [
        {
          "name": "stdout",
          "output_type": "stream",
          "text": [
            "+-----+-------+\n",
            "|month|  count|\n",
            "+-----+-------+\n",
            "|    1|1536581|\n",
            "|   10|1489708|\n",
            "|   11|1475681|\n",
            "+-----+-------+\n",
            "only showing top 3 rows\n",
            "\n"
          ]
        }
      ],
      "source": [
        "#top 3 months where most questions were asked\n",
        "top_3=main_data.select(month(\"CreationDate\").alias(\"month\"))\n",
        "top_3.select(\"month\").groupBy(\"month\").count().orderBy(\"count\",ascending=False).show(3)"
      ]
    },
    {
      "cell_type": "code",
      "execution_count": null,
      "id": "51087baf",
      "metadata": {
        "id": "51087baf",
        "outputId": "415ef447-1476-406b-e86f-ddc2cb51a952"
      },
      "outputs": [
        {
          "data": {
            "text/plain": [
              "19.220529110272228"
            ]
          },
          "execution_count": 13,
          "metadata": {},
          "output_type": "execute_result"
        }
      ],
      "source": [
        "#unsolved question percentage\n",
        "condition_count=main_data.select().where(col(\"AnswerCount\")==0).count()\n",
        "total=main_data.count()\n",
        "condition_count/total*100"
      ]
    },
    {
      "cell_type": "code",
      "execution_count": null,
      "id": "92d469c6",
      "metadata": {
        "id": "92d469c6",
        "outputId": "e3185172-73c9-4a90-bf15-02c3d1d9ac25"
      },
      "outputs": [
        {
          "name": "stdout",
          "output_type": "stream",
          "text": [
            "+---+-----------+\n",
            "| Id|AnswerCount|\n",
            "+---+-----------+\n",
            "|630|         -1|\n",
            "+---+-----------+\n",
            "only showing top 1 row\n",
            "\n"
          ]
        }
      ],
      "source": [
        "main_data.select(\"Id\",\"AnswerCount\").orderBy(\"AnswerCount\",ascending=True).show(1)"
      ]
    },
    {
      "cell_type": "code",
      "execution_count": null,
      "id": "d9dcaaf9",
      "metadata": {
        "id": "d9dcaaf9",
        "outputId": "41250e11-8c3e-43c0-ff2e-6d1c4ddbdd99"
      },
      "outputs": [
        {
          "name": "stdout",
          "output_type": "stream",
          "text": [
            "+-----+------+\n",
            "|month| count|\n",
            "+-----+------+\n",
            "|    8|363930|\n",
            "|   10|356172|\n",
            "|    7|349615|\n",
            "+-----+------+\n",
            "only showing top 3 rows\n",
            "\n"
          ]
        }
      ],
      "source": [
        "#Deletion top3\n",
        "top_3=main_data.select(month(\"DeletionDate\").alias(\"month\"))\n",
        "top_3.select(\"month\").where(month(\"DeletionDate\").isin(1,2,3,4,5,6,7,8,9,10,11,12))\\\n",
        "                            .groupBy(\"month\").count().orderBy(\"count\",ascending=False).show(3)"
      ]
    },
    {
      "cell_type": "code",
      "execution_count": null,
      "id": "a26d79d4",
      "metadata": {
        "id": "a26d79d4",
        "outputId": "05442b3d-2d3f-4e7d-f6ea-7084b5275ac5"
      },
      "outputs": [
        {
          "name": "stdout",
          "output_type": "stream",
          "text": [
            "+---------+----------------+\n",
            "|isWeekend|count(isWeekend)|\n",
            "+---------+----------------+\n",
            "|        1|         4116577|\n",
            "|        0|        13087247|\n",
            "+---------+----------------+\n",
            "\n"
          ]
        }
      ],
      "source": [
        "#Weekends Questions vs Non Weekends\n",
        "from pyspark.sql.functions import dayofweek \n",
        "weekend=main_data.withColumn('day_of_week',dayofweek(\"CreationDate\"))\n",
        "stats=weekend.withColumn(\"isWeekend\",when(col('day_of_week').isin(1,6) ,1).otherwise(0))\n",
        "stats.groupBy(\"isWeekend\").agg(count('isWeekend')).show()"
      ]
    },
    {
      "cell_type": "code",
      "execution_count": null,
      "id": "27db1589",
      "metadata": {
        "id": "27db1589",
        "outputId": "8fc594c6-3da8-4b91-bbc9-33bd9c673a9c"
      },
      "outputs": [
        {
          "data": {
            "text/plain": [
              "'130 Lakhs'"
            ]
          },
          "execution_count": 43,
          "metadata": {},
          "output_type": "execute_result"
        }
      ],
      "source": [
        "#Active Users\n",
        "active_users=main_data.filter(~main_data.OwnerUserId.isin('NA'))\n",
        "active_user_count=active_users.count()\n",
        "str(active_user_count//100000)+\" Lakhs\""
      ]
    },
    {
      "cell_type": "code",
      "execution_count": null,
      "id": "859004b5",
      "metadata": {
        "id": "859004b5",
        "outputId": "45215928-560c-4515-b517-e2d624d7aab0"
      },
      "outputs": [
        {
          "data": {
            "text/plain": [
              "'12 Lakhs'"
            ]
          },
          "execution_count": 48,
          "metadata": {},
          "output_type": "execute_result"
        }
      ],
      "source": [
        "#Repeated Users\n",
        "repeated=active_users.groupBy('OwnerUserId').agg(count('Id').alias(\"Repeated\"))\n",
        "repeat_count=repeated.where(col(\"Repeated\")>1).count()\n",
        "str(repeat_count//100000)+\" Lakhs\""
      ]
    },
    {
      "cell_type": "code",
      "execution_count": null,
      "id": "05576210",
      "metadata": {
        "id": "05576210",
        "outputId": "16c533c3-24cf-4807-9eb9-77f5c856213e"
      },
      "outputs": [
        {
          "name": "stdout",
          "output_type": "stream",
          "text": [
            "+----+-------+\n",
            "|year|  count|\n",
            "+----+-------+\n",
            "|2016|3201444|\n",
            "|2015|3105720|\n",
            "|2014|3040440|\n",
            "|2013|2759442|\n",
            "|2012|2065664|\n",
            "|2011|1445142|\n",
            "|2010| 820161|\n",
            "|2009| 394567|\n",
            "|2017| 300872|\n",
            "|2008|  70372|\n",
            "+----+-------+\n",
            "\n"
          ]
        }
      ],
      "source": [
        "#Year Wise stats\n",
        "top_3=main_data.select(year(\"CreationDate\").alias(\"year\"))\n",
        "top_3.select(\"year\").groupBy(\"year\").count().orderBy(\"count\",ascending=False).show()"
      ]
    }
  ],
  "metadata": {
    "kernelspec": {
      "display_name": "Python 3 (ipykernel)",
      "language": "python",
      "name": "python3"
    },
    "language_info": {
      "codemirror_mode": {
        "name": "ipython",
        "version": 3
      },
      "file_extension": ".py",
      "mimetype": "text/x-python",
      "name": "python",
      "nbconvert_exporter": "python",
      "pygments_lexer": "ipython3",
      "version": "3.9.13"
    },
    "colab": {
      "provenance": [],
      "include_colab_link": true
    }
  },
  "nbformat": 4,
  "nbformat_minor": 5
}